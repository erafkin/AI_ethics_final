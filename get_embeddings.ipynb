{
 "cells": [
  {
   "cell_type": "code",
   "execution_count": 1,
   "metadata": {},
   "outputs": [
    {
     "name": "stderr",
     "output_type": "stream",
     "text": [
      "/Users/erafkin/Desktop/School/graduate/2024-2025/social-factors-in-ai/AI_ethics_final/venv/lib/python3.11/site-packages/tqdm/auto.py:21: TqdmWarning: IProgress not found. Please update jupyter and ipywidgets. See https://ipywidgets.readthedocs.io/en/stable/user_install.html\n",
      "  from .autonotebook import tqdm as notebook_tqdm\n"
     ]
    }
   ],
   "source": [
    "import pandas as pd\n",
    "from datasets import load_dataset, Audio\n",
    "\n",
    "\n",
    "df = pd.read_csv(\"./data/cv-corpus-21.0-delta-2025-03-14/en/validated.tsv\", delimiter=\"\\t\")\n",
    "commonvoice = load_dataset(\"audiofolder\", data_dir=f\"./data/cv-corpus-21.0-delta-2025-03-14/validated_clips\")\n",
    "commonvoice = commonvoice.cast_column(\"audio\", Audio(sampling_rate=16000)) \n",
    "\n"
   ]
  },
  {
   "cell_type": "code",
   "execution_count": 2,
   "metadata": {},
   "outputs": [
    {
     "name": "stderr",
     "output_type": "stream",
     "text": [
      "Some weights of Wav2Vec2Model were not initialized from the model checkpoint at facebook/wav2vec2-base-960h and are newly initialized: ['masked_spec_embed']\n",
      "You should probably TRAIN this model on a down-stream task to be able to use it for predictions and inference.\n",
      "100%|██████████| 249/249 [01:51<00:00,  2.24it/s]\n"
     ]
    }
   ],
   "source": [
    "from transformers import AutoProcessor, Wav2Vec2Model\n",
    "import torch\n",
    "import librosa\n",
    "import soundfile\n",
    "import pickle\n",
    "from tqdm import tqdm\n",
    "model_checkpoint = \"facebook/wav2vec2-base-960h\"\n",
    "model = Wav2Vec2Model.from_pretrained(model_checkpoint)\n",
    "processor = AutoProcessor.from_pretrained(model_checkpoint)\n",
    "\n",
    "clip_path = \"./data/cv-corpus-21.0-delta-2025-03-14/en\"\n",
    "output_dict = {}\n",
    "for cv in tqdm(commonvoice[\"train\"]):\n",
    "    # audio file is decoded on the fly\n",
    "    inputs = processor(cv[\"audio\"][\"array\"], sampling_rate=cv[\"audio\"][\"sampling_rate\"], return_tensors=\"pt\")\n",
    "\n",
    "    with torch.no_grad():\n",
    "        outputs = model(**inputs)\n",
    "\n",
    "    last_hidden_states = outputs.last_hidden_state # i think these are the embeddings that I am going to want\n",
    "    output_dict[cv['audio']['path'].split(\"/\")[-1].split(\".\")[0]] = last_hidden_states\n",
    "    list(last_hidden_states.shape)\n",
    "\n",
    "with open(\"commonvoice_embeddings.pkl\", 'wb') as file:\n",
    "    # Use pickle.dump() to serialize and save the dictionary\n",
    "    pickle.dump(output_dict, file)\n",
    "    file.close()\n"
   ]
  }
 ],
 "metadata": {
  "kernelspec": {
   "display_name": "venv",
   "language": "python",
   "name": "python3"
  },
  "language_info": {
   "codemirror_mode": {
    "name": "ipython",
    "version": 3
   },
   "file_extension": ".py",
   "mimetype": "text/x-python",
   "name": "python",
   "nbconvert_exporter": "python",
   "pygments_lexer": "ipython3",
   "version": "3.11.6"
  }
 },
 "nbformat": 4,
 "nbformat_minor": 2
}
