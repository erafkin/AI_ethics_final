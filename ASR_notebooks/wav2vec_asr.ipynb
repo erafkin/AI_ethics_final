{
 "cells": [
  {
   "cell_type": "code",
   "execution_count": 1,
   "id": "04f292ac",
   "metadata": {},
   "outputs": [],
   "source": [
    "import pandas as pd\n",
    "import pickle\n",
    "df_19 = pd.read_csv(\"../data/cv-corpus-19.0-delta-2024-09-13/en/validated.tsv\", delimiter=\"\\t\")\n",
    "df_21 = pd.read_csv(\"../data/cv-corpus-21.0-delta-2025-03-14/en/validated.tsv\", delimiter=\"\\t\")\n",
    "df_17 = pd.read_csv('../data/cv-corpus-17.0-delta-2024-03-15/en/validated.tsv', delimiter=\"\\t\")\n",
    "\n",
    "embeddings_17 = {}\n",
    "with open('../data/cv_17.pkl', 'rb') as file:\n",
    "    embeddings_17 = pickle.load(file)\n",
    "embeddings_19 = {}\n",
    "with open('../data/cv_19.pkl', 'rb') as file:\n",
    "    embeddings_19 = pickle.load(file)\n",
    "embeddings_21 = {}\n",
    "with open('../data/cv_21.pkl', 'rb') as file:\n",
    "    embeddings_21 = pickle.load(file)\n"
   ]
  },
  {
   "cell_type": "code",
   "execution_count": 2,
   "id": "8a280afd",
   "metadata": {},
   "outputs": [
    {
     "name": "stderr",
     "output_type": "stream",
     "text": [
      "/Users/rafkiep1/Desktop/AI_ethics_final/venv/lib/python3.10/site-packages/tqdm/auto.py:21: TqdmWarning: IProgress not found. Please update jupyter and ipywidgets. See https://ipywidgets.readthedocs.io/en/stable/user_install.html\n",
      "  from .autonotebook import tqdm as notebook_tqdm\n",
      "Some weights of Wav2Vec2ForCTC were not initialized from the model checkpoint at facebook/wav2vec2-base-960h and are newly initialized: ['wav2vec2.masked_spec_embed']\n",
      "You should probably TRAIN this model on a down-stream task to be able to use it for predictions and inference.\n"
     ]
    }
   ],
   "source": [
    "from transformers import AutoProcessor, Wav2Vec2ForCTC\n",
    "\n",
    "model_checkpoint = \"facebook/wav2vec2-base-960h\"\n",
    "model = Wav2Vec2ForCTC.from_pretrained(model_checkpoint)\n",
    "processor = AutoProcessor.from_pretrained(model_checkpoint)\n",
    "lm_head = model.lm_head\n",
    "vocab = processor.tokenizer.vocab.keys()\n",
    "\n"
   ]
  },
  {
   "cell_type": "code",
   "execution_count": 3,
   "id": "993c0275",
   "metadata": {},
   "outputs": [
    {
     "name": "stderr",
     "output_type": "stream",
     "text": [
      "378it [02:18,  1.15it/s]Using the latest cached version of the module from /Users/rafkiep1/.cache/huggingface/modules/evaluate_modules/metrics/evaluate-metric--cer/9cb90b752d5f15fb41161efdbefd13570adb3f32fa157290d8a55093c47428e1 (last modified on Fri Apr 18 12:20:21 2025) since it couldn't be found locally at evaluate-metric--cer, or remotely on the Hugging Face Hub.\n",
      "1877it [28:29,  1.10it/s]\n",
      "137it [02:00,  1.13it/s]\n",
      "249it [03:29,  1.19it/s]\n"
     ]
    }
   ],
   "source": [
    "import torch\n",
    "from evaluate import load\n",
    "import re\n",
    "from tqdm import tqdm \n",
    "corpora = [17, 19, 21]\n",
    "dfs = [df_17, df_19, df_21]\n",
    "embedding_dicts = [embeddings_17, embeddings_19, embeddings_21]\n",
    "rows = []\n",
    "for df_idx, df in enumerate(dfs):\n",
    "    paths = df.path.to_list()\n",
    "    genders = df.gender.to_list()\n",
    "    sentences = df.sentence.to_list()\n",
    "    curr_dict = embedding_dicts[df_idx]\n",
    "    for idx, path in tqdm(enumerate(paths)):\n",
    "        if genders[idx] in [\"male_masculine\", \"female_feminine\"]:\n",
    "            embedding = curr_dict[path.split(\".\")[0]]\n",
    "            predictions = lm_head.forward(embedding)\n",
    "            predicted_ids = torch.argmax(predictions, dim=-1)\n",
    "            transcription = processor.batch_decode(predicted_ids)\n",
    "            truth = sentences[idx]\n",
    "            #clean\n",
    "            truth = re.sub(r'[^\\w\\s]', '', truth)\n",
    "            truth = truth.lower()\n",
    "            wer = load(\"wer\")\n",
    "            cer = load(\"cer\")\n",
    "            prediction = transcription[0].lower()\n",
    "            wer_score = wer.compute(predictions=[prediction], references=[truth])\n",
    "            cer_score = cer.compute(predictions=[prediction], references=[truth])\n",
    "            rows.append([path, genders[idx], prediction, truth, wer_score, cer_score, corpora[df_idx]])\n",
    "df = pd.DataFrame(rows, columns=[\"path\", \"gender\", \"prediction\", \"truth\", \"wer\", \"cer\", \"cv_corpus\"])\n",
    "df.to_csv(\"predictions.csv\", index=False)"
   ]
  },
  {
   "cell_type": "code",
   "execution_count": 12,
   "id": "a35e32e2",
   "metadata": {},
   "outputs": [
    {
     "data": {
      "text/plain": [
       "(count    1366.000000\n",
       " mean        0.207599\n",
       " std         0.226451\n",
       " min         0.000000\n",
       " 25%         0.000000\n",
       " 50%         0.153846\n",
       " 75%         0.285714\n",
       " max         1.600000\n",
       " Name: wer, dtype: float64,\n",
       " count    1366.000000\n",
       " mean        0.070853\n",
       " std         0.101548\n",
       " min         0.000000\n",
       " 25%         0.000000\n",
       " 50%         0.037037\n",
       " 75%         0.088235\n",
       " max         0.652174\n",
       " Name: cer, dtype: float64)"
      ]
     },
     "execution_count": 12,
     "metadata": {},
     "output_type": "execute_result"
    }
   ],
   "source": [
    "df_female = df[df[\"gender\"] == \"female_feminine\"]\n",
    "df_male = df[df[\"gender\"] == \"male_masculine\"]\n",
    "df_male.wer.describe(), df_male.cer.describe()\n"
   ]
  },
  {
   "cell_type": "code",
   "execution_count": 13,
   "id": "4c4b1d37",
   "metadata": {},
   "outputs": [
    {
     "data": {
      "text/plain": [
       "(count    318.000000\n",
       " mean       0.276328\n",
       " std        0.252172\n",
       " min        0.000000\n",
       " 25%        0.083333\n",
       " 50%        0.222222\n",
       " 75%        0.428571\n",
       " max        1.500000\n",
       " Name: wer, dtype: float64,\n",
       " count    318.000000\n",
       " mean       0.100528\n",
       " std        0.106244\n",
       " min        0.000000\n",
       " 25%        0.017395\n",
       " 50%        0.067232\n",
       " 75%        0.163288\n",
       " max        0.500000\n",
       " Name: cer, dtype: float64)"
      ]
     },
     "execution_count": 13,
     "metadata": {},
     "output_type": "execute_result"
    }
   ],
   "source": [
    "df_female.wer.describe(), df_female.cer.describe()"
   ]
  }
 ],
 "metadata": {
  "kernelspec": {
   "display_name": "venv",
   "language": "python",
   "name": "python3"
  },
  "language_info": {
   "codemirror_mode": {
    "name": "ipython",
    "version": 3
   },
   "file_extension": ".py",
   "mimetype": "text/x-python",
   "name": "python",
   "nbconvert_exporter": "python",
   "pygments_lexer": "ipython3",
   "version": "3.10.16"
  }
 },
 "nbformat": 4,
 "nbformat_minor": 5
}
