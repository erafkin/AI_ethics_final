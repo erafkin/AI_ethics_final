{
 "cells": [
  {
   "cell_type": "code",
   "execution_count": 10,
   "metadata": {},
   "outputs": [
    {
     "name": "stderr",
     "output_type": "stream",
     "text": [
      "Device set to use cpu\n"
     ]
    }
   ],
   "source": [
    "import torch\n",
    "from transformers import pipeline\n",
    "from datasets import load_dataset, Audio\n",
    "import pandas as pd\n",
    "\n",
    "\n",
    "\n",
    "df = pd.read_csv(\"../data/cv-corpus-21.0-delta-2025-03-14/en/validated.tsv\", delimiter=\"\\t\")\n",
    "commonvoice = load_dataset(\"audiofolder\", data_dir=f\"../data/cv-corpus-21.0-delta-2025-03-14/validated_clips\")\n",
    "commonvoice.cast_column(\"audio\", Audio(sampling_rate=16000)) \n",
    "\n",
    "\n",
    "device = \"cuda:0\" if torch.cuda.is_available() else \"cpu\"\n",
    "\n",
    "pipe = pipeline(\n",
    "  \"automatic-speech-recognition\",\n",
    "  model=\"openai/whisper-tiny\",\n",
    "  chunk_length_s=30,\n",
    "  device=device,\n",
    ")\n",
    "\n",
    "\n"
   ]
  },
  {
   "cell_type": "code",
   "execution_count": 13,
   "metadata": {},
   "outputs": [
    {
     "name": "stderr",
     "output_type": "stream",
     "text": [
      "  0%|          | 0/249 [00:00<?, ?it/s]/Users/erafkin/Desktop/School/graduate/2024-2025/social-factors-in-ai/AI_ethics_final/venv/lib/python3.11/site-packages/transformers/models/whisper/generation_whisper.py:573: FutureWarning: The input name `inputs` is deprecated. Please make sure to use `input_features` instead.\n",
      "  warnings.warn(\n",
      "100%|██████████| 249/249 [05:02<00:00,  1.21s/it]\n"
     ]
    }
   ],
   "source": [
    "from tqdm import tqdm\n",
    "output_dict = {}\n",
    "\n",
    "for clip in tqdm(commonvoice[\"train\"]):\n",
    "    prediction = pipe(clip[\"audio\"][\"array\"], batch_size=8)\n",
    "    output_dict[clip['audio']['path'].split(\"/\")[-1].split(\".\")[0]] = prediction\n"
   ]
  },
  {
   "cell_type": "code",
   "execution_count": 14,
   "metadata": {},
   "outputs": [],
   "source": [
    "import pickle\n",
    "with open(\"whisper_tiny_predictions.pkl\", 'wb') as file:\n",
    "    # Use pickle.dump() to serialize and save the dictionary\n",
    "    pickle.dump(output_dict, file)\n",
    "    file.close()\n"
   ]
  }
 ],
 "metadata": {
  "kernelspec": {
   "display_name": "venv",
   "language": "python",
   "name": "python3"
  },
  "language_info": {
   "codemirror_mode": {
    "name": "ipython",
    "version": 3
   },
   "file_extension": ".py",
   "mimetype": "text/x-python",
   "name": "python",
   "nbconvert_exporter": "python",
   "pygments_lexer": "ipython3",
   "version": "3.11.6"
  }
 },
 "nbformat": 4,
 "nbformat_minor": 2
}
