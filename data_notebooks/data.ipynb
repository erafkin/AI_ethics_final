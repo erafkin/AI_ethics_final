{
 "cells": [
  {
   "cell_type": "code",
   "execution_count": 2,
   "metadata": {},
   "outputs": [
    {
     "data": {
      "text/plain": [
       "1877"
      ]
     },
     "execution_count": 2,
     "metadata": {},
     "output_type": "execute_result"
    }
   ],
   "source": [
    "import pandas as pd\n",
    "\n",
    "df = pd.read_csv(\"../data/cv-corpus-17.0-delta-2024-03-15/en/validated.tsv\", delimiter=\"\\t\")\n",
    "len(df)"
   ]
  },
  {
   "cell_type": "code",
   "execution_count": 2,
   "metadata": {},
   "outputs": [
    {
     "data": {
      "text/plain": [
       "gender\n",
       "male_masculine     1267\n",
       "female_feminine     145\n",
       "transgender           1\n",
       "Name: count, dtype: int64"
      ]
     },
     "execution_count": 2,
     "metadata": {},
     "output_type": "execute_result"
    }
   ],
   "source": [
    "df.gender.value_counts()\n"
   ]
  },
  {
   "cell_type": "code",
   "execution_count": 3,
   "metadata": {},
   "outputs": [
    {
     "data": {
      "text/plain": [
       "age\n",
       "thirties     632\n",
       "twenties     408\n",
       "fifties      127\n",
       "teens        107\n",
       "seventies     94\n",
       "fourties      49\n",
       "sixties       44\n",
       "Name: count, dtype: int64"
      ]
     },
     "execution_count": 3,
     "metadata": {},
     "output_type": "execute_result"
    }
   ],
   "source": [
    "df.age.value_counts()\n"
   ]
  },
  {
   "cell_type": "code",
   "execution_count": 4,
   "metadata": {},
   "outputs": [
    {
     "data": {
      "text/plain": [
       "accents\n",
       "United States English                                          479\n",
       "England English                                                200\n",
       "Canadian English                                               147\n",
       "Australian English                                             139\n",
       "Scottish English                                               100\n",
       "                                                              ... \n",
       "United States English,England English,Transatlantic English      1\n",
       "England English,Dutch English                                    1\n",
       "British,England English                                          1\n",
       "England English,London/Cockney Accent                            1\n",
       "United States English,Midwestern,Low,Demure                      1\n",
       "Name: count, Length: 119, dtype: int64"
      ]
     },
     "execution_count": 4,
     "metadata": {},
     "output_type": "execute_result"
    }
   ],
   "source": [
    "df.accents.value_counts()\n"
   ]
  },
  {
   "cell_type": "code",
   "execution_count": 5,
   "metadata": {},
   "outputs": [
    {
     "name": "stderr",
     "output_type": "stream",
     "text": [
      "1877it [00:02, 736.93it/s]\n"
     ]
    }
   ],
   "source": [
    "from tqdm import tqdm\n",
    "import shutil\n",
    "\n",
    "clip_path = \"../data/cv-corpus-17.0-delta-2024-03-15/en/clips\"\n",
    "output_path = \"../data/cv-corpus-17.0-delta-2024-03-15/validated_clips\"\n",
    "\n",
    "for index, row in tqdm(df.iterrows()):\n",
    "    clip_file = f\"{clip_path}/{row['path']}\"\n",
    "    shutil.copyfile(clip_file, f\"{output_path}/{row['path']}\")\n",
    "\n"
   ]
  }
 ],
 "metadata": {
  "kernelspec": {
   "display_name": "venv",
   "language": "python",
   "name": "python3"
  },
  "language_info": {
   "codemirror_mode": {
    "name": "ipython",
    "version": 3
   },
   "file_extension": ".py",
   "mimetype": "text/x-python",
   "name": "python",
   "nbconvert_exporter": "python",
   "pygments_lexer": "ipython3",
   "version": "3.10.16"
  }
 },
 "nbformat": 4,
 "nbformat_minor": 2
}
