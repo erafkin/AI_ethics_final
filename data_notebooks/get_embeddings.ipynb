{
 "cells": [
  {
   "cell_type": "code",
   "execution_count": 11,
   "metadata": {},
   "outputs": [],
   "source": [
    "import pandas as pd\n",
    "from datasets import load_dataset, Audio\n",
    "\n",
    "\n",
    "df = pd.read_csv(\"../data/cv-corpus-17.0-delta-2024-03-15/en/validated.tsv\", delimiter=\"\\t\")\n",
    "commonvoice = load_dataset(\"audiofolder\", data_dir=f\"../data/cv-corpus-17.0-delta-2024-03-15/validated_clips\")\n",
    "commonvoice = commonvoice.cast_column(\"audio\", Audio(sampling_rate=16000)) \n",
    "\n"
   ]
  },
  {
   "cell_type": "code",
   "execution_count": 14,
   "metadata": {},
   "outputs": [
    {
     "name": "stderr",
     "output_type": "stream",
     "text": [
      "Some weights of Wav2Vec2ForCTC were not initialized from the model checkpoint at facebook/wav2vec2-base-960h and are newly initialized: ['wav2vec2.masked_spec_embed']\n",
      "You should probably TRAIN this model on a down-stream task to be able to use it for predictions and inference.\n",
      "  0%|          | 0/1877 [00:00<?, ?it/s]"
     ]
    },
    {
     "name": "stdout",
     "output_type": "stream",
     "text": [
      "13\n"
     ]
    },
    {
     "name": "stderr",
     "output_type": "stream",
     "text": [
      "\n"
     ]
    },
    {
     "ename": "AttributeError",
     "evalue": "'CausalLMOutput' object has no attribute 'last_hidden_state'",
     "output_type": "error",
     "traceback": [
      "\u001b[0;31m---------------------------------------------------------------------------\u001b[0m",
      "\u001b[0;31mAttributeError\u001b[0m                            Traceback (most recent call last)",
      "Cell \u001b[0;32mIn[14], line 22\u001b[0m\n\u001b[1;32m     19\u001b[0m         outputs \u001b[38;5;241m=\u001b[39m model(\u001b[38;5;241m*\u001b[39m\u001b[38;5;241m*\u001b[39minputs, output_hidden_states\u001b[38;5;241m=\u001b[39m\u001b[38;5;28;01mTrue\u001b[39;00m)\n\u001b[1;32m     20\u001b[0m     \u001b[38;5;28mprint\u001b[39m(\u001b[38;5;28mlen\u001b[39m(outputs\u001b[38;5;241m.\u001b[39mhidden_states))\n\u001b[0;32m---> 22\u001b[0m     last_hidden_states \u001b[38;5;241m=\u001b[39m \u001b[43moutputs\u001b[49m\u001b[38;5;241;43m.\u001b[39;49m\u001b[43mlast_hidden_state\u001b[49m \u001b[38;5;66;03m# i think these are the embeddings that I am going to want\u001b[39;00m\n\u001b[1;32m     23\u001b[0m     output_dict[cv[\u001b[38;5;124m'\u001b[39m\u001b[38;5;124maudio\u001b[39m\u001b[38;5;124m'\u001b[39m][\u001b[38;5;124m'\u001b[39m\u001b[38;5;124mpath\u001b[39m\u001b[38;5;124m'\u001b[39m]\u001b[38;5;241m.\u001b[39msplit(\u001b[38;5;124m\"\u001b[39m\u001b[38;5;124m/\u001b[39m\u001b[38;5;124m\"\u001b[39m)[\u001b[38;5;241m-\u001b[39m\u001b[38;5;241m1\u001b[39m]\u001b[38;5;241m.\u001b[39msplit(\u001b[38;5;124m\"\u001b[39m\u001b[38;5;124m.\u001b[39m\u001b[38;5;124m\"\u001b[39m)[\u001b[38;5;241m0\u001b[39m]] \u001b[38;5;241m=\u001b[39m last_hidden_states\n\u001b[1;32m     25\u001b[0m \u001b[38;5;28;01mwith\u001b[39;00m \u001b[38;5;28mopen\u001b[39m(\u001b[38;5;124m\"\u001b[39m\u001b[38;5;124mcommonvoice_embeddings.pkl\u001b[39m\u001b[38;5;124m\"\u001b[39m, \u001b[38;5;124m'\u001b[39m\u001b[38;5;124mwb\u001b[39m\u001b[38;5;124m'\u001b[39m) \u001b[38;5;28;01mas\u001b[39;00m file:\n\u001b[1;32m     26\u001b[0m     \u001b[38;5;66;03m# Use pickle.dump() to serialize and save the dictionary\u001b[39;00m\n",
      "\u001b[0;31mAttributeError\u001b[0m: 'CausalLMOutput' object has no attribute 'last_hidden_state'"
     ]
    }
   ],
   "source": [
    "from transformers import AutoProcessor, Wav2Vec2ForCTC\n",
    "import torch\n",
    "import librosa\n",
    "import soundfile\n",
    "import pickle\n",
    "from tqdm import tqdm\n",
    "import numpy as np\n",
    "model_checkpoint = \"facebook/wav2vec2-base-960h\"\n",
    "model = Wav2Vec2ForCTC.from_pretrained(model_checkpoint)\n",
    "processor = AutoProcessor.from_pretrained(model_checkpoint)\n",
    "\n",
    "clip_path = \"../data/cv-corpus-17.0-delta-2024-03-15/en\"\n",
    "output_dict = {}\n",
    "for cv in tqdm(commonvoice[\"train\"]):\n",
    "    # audio file is decoded on the fly\n",
    "    inputs = processor(cv[\"audio\"][\"array\"], sampling_rate=cv[\"audio\"][\"sampling_rate\"], return_tensors=\"pt\")\n",
    "\n",
    "    with torch.no_grad():\n",
    "        outputs = model(**inputs, output_hidden_states=True)\n",
    "    print(len(outputs.hidden_states))\n",
    "\n",
    "    last_hidden_states = outputs.last_hidden_state # i think these are the embeddings that I am going to want\n",
    "    output_dict[cv['audio']['path'].split(\"/\")[-1].split(\".\")[0]] = last_hidden_states\n",
    "\n",
    "with open(\"commonvoice_embeddings.pkl\", 'wb') as file:\n",
    "    # Use pickle.dump() to serialize and save the dictionary\n",
    "    pickle.dump(output_dict, file)\n",
    "    file.close()\n"
   ]
  },
  {
   "cell_type": "code",
   "execution_count": null,
   "metadata": {},
   "outputs": [],
   "source": [
    "# import torch\n",
    "# import torchaudio\n",
    "\n",
    "# bundle = torchaudio.pipelines.WAV2VEC2_ASR_BASE_960H\n",
    "# model = bundle.get_model()\n",
    "# for cv in tqdm(commonvoice[\"train\"]):\n",
    "\n",
    "#     waveform, sample_rate = torchaudio.load(SPEECH_FILE)\n",
    "#     if sample_rate != bundle.sample_rate:\n",
    "#         waveform = torchaudio.functional.resample(waveform, sample_rate, bundle.sample_rate)\n",
    "#     with torch.inference_mode():\n",
    "#         features, _ = model.extract_features(waveform)\n"
   ]
  }
 ],
 "metadata": {
  "kernelspec": {
   "display_name": "venv",
   "language": "python",
   "name": "python3"
  },
  "language_info": {
   "codemirror_mode": {
    "name": "ipython",
    "version": 3
   },
   "file_extension": ".py",
   "mimetype": "text/x-python",
   "name": "python",
   "nbconvert_exporter": "python",
   "pygments_lexer": "ipython3",
   "version": "3.10.16"
  }
 },
 "nbformat": 4,
 "nbformat_minor": 2
}
