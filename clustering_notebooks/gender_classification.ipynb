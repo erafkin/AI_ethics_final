{
 "cells": [
  {
   "cell_type": "code",
   "execution_count": null,
   "id": "18e5c335",
   "metadata": {},
   "outputs": [],
   "source": [
    "import pandas as pd\n",
    "import pickle\n",
    "df_19 = pd.read_csv(\"../data/cv-corpus-19.0-delta-2024-09-13/en/validated.tsv\", delimiter=\"\\t\")\n",
    "df_21 = pd.read_csv(\"../data/cv-corpus-21.0-delta-2025-03-14/en/validated.tsv\", delimiter=\"\\t\")\n",
    "df_17 = pd.read_csv('../data/cv-corpus-17.0-delta-2024-03-15/en/validated.tsv', delimiter=\"\\t\")\n",
    "\n",
    "embeddings_19 = {}\n",
    "with open('../data/cv-corpus-19.0-delta-2024-09-13/commonvoice_embeddings.pkl', 'rb') as file:\n",
    "    embeddings_19 = pickle.load(file)\n",
    "embeddings_21 = {}\n",
    "with open('../data/cv-corpus-21.0-delta-2025-03-14/commonvoice_embeddings.pkl', 'rb') as file:\n",
    "    embeddings_21 = pickle.load(file)\n",
    "embeddings_17 = {}\n",
    "with open('../data/cv-corpus-17.0-delta-2024-03-15/commonvoice_embeddings.pkl', 'rb') as file:\n",
    "    embeddings_17 = pickle.load(file)"
   ]
  }
 ],
 "metadata": {
  "kernelspec": {
   "display_name": "venv",
   "language": "python",
   "name": "python3"
  },
  "language_info": {
   "name": "python",
   "version": "3.10.16"
  }
 },
 "nbformat": 4,
 "nbformat_minor": 5
}
