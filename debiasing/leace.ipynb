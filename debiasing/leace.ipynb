{
 "cells": [
  {
   "cell_type": "code",
   "execution_count": 1,
   "id": "c45ca757",
   "metadata": {},
   "outputs": [],
   "source": [
    "import torch\n",
    "from sklearn.datasets import make_classification\n",
    "from sklearn.linear_model import LogisticRegression\n",
    "\n",
    "from concept_erasure import LeaceEraser\n",
    "\n",
    "n, d, k = 2048, 128, 2\n",
    "\n",
    "X, Y = make_classification(\n",
    "    n_samples=n,\n",
    "    n_features=d,\n",
    "    n_classes=k,\n",
    "    random_state=42,\n",
    ")\n",
    "X_t = torch.from_numpy(X)\n",
    "Y_t = torch.from_numpy(Y)\n",
    "\n",
    "# Logistic regression does learn something before concept erasure\n",
    "real_lr = LogisticRegression(max_iter=1000).fit(X, Y)\n",
    "beta = torch.from_numpy(real_lr.coef_)\n",
    "assert beta.norm(p=torch.inf) > 0.1\n",
    "\n",
    "eraser = LeaceEraser.fit(X_t, Y_t)\n",
    "X_ = eraser(X_t)\n",
    "\n",
    "# But learns nothing after\n",
    "null_lr = LogisticRegression(max_iter=1000, tol=0.0).fit(X_.numpy(), Y)\n",
    "beta = torch.from_numpy(null_lr.coef_)\n",
    "assert beta.norm(p=torch.inf) < 1e-4"
   ]
  },
  {
   "cell_type": "code",
   "execution_count": 3,
   "id": "7a790f78",
   "metadata": {},
   "outputs": [],
   "source": [
    "import pandas as pd\n",
    "import pickle\n",
    "df_19 = pd.read_csv(\"../data/cv-corpus-19.0-delta-2024-09-13/en/validated.tsv\", delimiter=\"\\t\")\n",
    "df_21 = pd.read_csv(\"../data/cv-corpus-21.0-delta-2025-03-14/en/validated.tsv\", delimiter=\"\\t\")\n",
    "\n",
    "embeddings_19 = {}\n",
    "with open('../data/cv-corpus-19.0-delta-2024-09-13/commonvoice_embeddings.pkl', 'rb') as file:\n",
    "    embeddings_19 = pickle.load(file)\n",
    "embeddings_21 = {}\n",
    "with open('../data/cv-corpus-21.0-delta-2025-03-14/commonvoice_embeddings.pkl', 'rb') as file:\n",
    "    embeddings_21 = pickle.load(file)"
   ]
  },
  {
   "cell_type": "code",
   "execution_count": null,
   "id": "f3eda73e",
   "metadata": {},
   "outputs": [],
   "source": [
    "y_21= []\n",
    "X_21= []\n",
    "for idx, gender in enumerate(df_21.gender.tolist()):\n",
    "    if gender in [\"male_masculine\", \"female_feminine\"]:\n",
    "        y_21.append(gender)\n",
    "        X_21.append(embeddings_21[df_21.path.tolist()[idx].split(\".\")[0]])"
   ]
  },
  {
   "cell_type": "code",
   "execution_count": null,
   "id": "91099971",
   "metadata": {},
   "outputs": [],
   "source": [
    "from sklearn.linear_model import LogisticRegression\n",
    "import torch\n",
    "real_lr = LogisticRegression(max_iter=1000).fit(X_21, y_21)\n",
    "beta = torch.from_numpy(real_lr.coef_)\n",
    "\n",
    "beta.norm(p=torch.inf)\n",
    "assert beta.norm(p=torch.inf) > 0.1\n",
    "\n"
   ]
  }
 ],
 "metadata": {
  "kernelspec": {
   "display_name": "venv",
   "language": "python",
   "name": "python3"
  },
  "language_info": {
   "codemirror_mode": {
    "name": "ipython",
    "version": 3
   },
   "file_extension": ".py",
   "mimetype": "text/x-python",
   "name": "python",
   "nbconvert_exporter": "python",
   "pygments_lexer": "ipython3",
   "version": "3.10.16"
  }
 },
 "nbformat": 4,
 "nbformat_minor": 5
}
