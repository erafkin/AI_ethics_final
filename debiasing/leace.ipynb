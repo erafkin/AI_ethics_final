{
 "cells": [
  {
   "cell_type": "code",
   "execution_count": 53,
   "id": "c45ca757",
   "metadata": {},
   "outputs": [],
   "source": [
    "import torch\n",
    "from sklearn.datasets import make_classification\n",
    "from sklearn.linear_model import LogisticRegression\n",
    "\n",
    "from concept_erasure import LeaceEraser\n",
    "\n",
    "n, d, k = 2048, 128, 2\n",
    "\n",
    "X, Y = make_classification(\n",
    "    n_samples=n,\n",
    "    n_features=d,\n",
    "    n_classes=k,\n",
    "    random_state=42,\n",
    ")\n",
    "X_t = torch.from_numpy(X)\n",
    "Y_t = torch.from_numpy(Y)\n",
    "\n",
    "# Logistic regression does learn something before concept erasure\n",
    "real_lr = LogisticRegression(max_iter=1000).fit(X, Y)\n",
    "beta = torch.from_numpy(real_lr.coef_)\n",
    "assert beta.norm(p=torch.inf) > 0.1\n",
    "\n",
    "eraser = LeaceEraser.fit(X_t, Y_t)\n",
    "X_ = eraser(X_t)\n",
    "\n",
    "# But learns nothing after\n",
    "null_lr = LogisticRegression(max_iter=1000, tol=0.0).fit(X_.numpy(), Y)\n",
    "beta = torch.from_numpy(null_lr.coef_)\n",
    "assert beta.norm(p=torch.inf) < 1e-4"
   ]
  },
  {
   "cell_type": "code",
   "execution_count": null,
   "id": "7a790f78",
   "metadata": {},
   "outputs": [],
   "source": [
    "import pandas as pd\n",
    "import pickle\n",
    "df_19 = pd.read_csv(\"../data/cv-corpus-19.0-delta-2024-09-13/en/validated.tsv\", delimiter=\"\\t\")\n",
    "df_21 = pd.read_csv(\"../data/cv-corpus-21.0-delta-2025-03-14/en/validated.tsv\", delimiter=\"\\t\")\n",
    "df_17 = pd.read_csv('../data/cv-corpus-17.0-delta-2024-03-15/en/validated.tsv', delimiter=\"\\t\")\n",
    "\n",
    "embeddings_19 = {}\n",
    "with open('../data/cv-corpus-19.0-delta-2024-09-13/commonvoice_embeddings.pkl', 'rb') as file:\n",
    "    embeddings_19 = pickle.load(file)\n",
    "# embeddings_21 = {}\n",
    "# with open('../data/cv-corpus-21.0-delta-2025-03-14/commonvoice_embeddings.pkl', 'rb') as file:\n",
    "#     embeddings_21 = pickle.load(file)\n",
    "# embeddings_17 = {}\n",
    "# with open('../data/cv-corpus-17.0-delta-2024-03-15/commonvoice_embeddings.pkl', 'rb') as file:\n",
    "#     embeddings_17 = pickle.load(file)"
   ]
  },
  {
   "cell_type": "code",
   "execution_count": 55,
   "id": "f3eda73e",
   "metadata": {},
   "outputs": [],
   "source": [
    "y_train= []\n",
    "X_train= []\n",
    "for idx, gender in enumerate(df_21.gender.tolist()):\n",
    "    if gender in [\"male_masculine\", \"female_feminine\"]:\n",
    "        y_train.append(gender)\n",
    "        X_train.append(embeddings_21[df_21.path.tolist()[idx].split(\".\")[0]])\n",
    "for idx, gender in enumerate(df_17.gender.tolist()):\n",
    "    if gender in [\"male_masculine\", \"female_feminine\"]:\n",
    "        y_train.append(gender)\n",
    "        X_train.append(embeddings_17[df_17.path.tolist()[idx].split(\".\")[0]])\n",
    "y_test= []\n",
    "X_test= []\n",
    "for idx, gender in enumerate(df_19.gender.tolist()):\n",
    "    if gender in [\"male_masculine\", \"female_feminine\"]:\n",
    "        y_test.append(gender)\n",
    "        X_test.append(embeddings_19[df_19.path.tolist()[idx].split(\".\")[0]])"
   ]
  },
  {
   "cell_type": "code",
   "execution_count": 56,
   "id": "91099971",
   "metadata": {},
   "outputs": [
    {
     "data": {
      "text/plain": [
       "(0.8334376956793988, 0.6551724137931034)"
      ]
     },
     "execution_count": 56,
     "metadata": {},
     "output_type": "execute_result"
    }
   ],
   "source": [
    "from sklearn.linear_model import LogisticRegression\n",
    "import torch\n",
    "from sklearn.metrics import accuracy_score\n",
    "\n",
    "lr = LogisticRegression(max_iter=1000).fit(X_train, y_train)\n",
    "beta = torch.from_numpy(lr.coef_)\n",
    "\n",
    "beta.norm(p=torch.inf)\n",
    "\n",
    "assert beta.norm(p=torch.inf) > 0.1\n",
    "predict_train = lr.predict(X_train)\n",
    "predict_test = lr.predict(X_test)\n",
    "accuracy_score(y_train, predict_train), accuracy_score(y_test, predict_test)\n",
    "\n"
   ]
  },
  {
   "cell_type": "code",
   "execution_count": 57,
   "id": "63f2f24d",
   "metadata": {},
   "outputs": [
    {
     "data": {
      "text/plain": [
       "(1.0, 0.6781609195402298)"
      ]
     },
     "execution_count": 57,
     "metadata": {},
     "output_type": "execute_result"
    }
   ],
   "source": [
    "from sklearn.ensemble import RandomForestClassifier\n",
    "from sklearn.metrics import accuracy_score\n",
    "\n",
    "rf = RandomForestClassifier().fit(X_train, y_train)\n",
    "\n",
    "predict_train = rf.predict(X_train)\n",
    "predict_test = rf.predict(X_test)\n",
    "accuracy_score(y_train, predict_train), accuracy_score(y_test, predict_test)\n",
    "\n"
   ]
  },
  {
   "cell_type": "code",
   "execution_count": 58,
   "id": "96568f24",
   "metadata": {},
   "outputs": [
    {
     "data": {
      "text/plain": [
       "(1597, 87)"
      ]
     },
     "execution_count": 58,
     "metadata": {},
     "output_type": "execute_result"
    }
   ],
   "source": [
    "len(y_train), len(y_test)"
   ]
  },
  {
   "cell_type": "code",
   "execution_count": null,
   "id": "5685f9b3",
   "metadata": {},
   "outputs": [
    {
     "name": "stdout",
     "output_type": "stream",
     "text": [
      "1.0 0.6551724137931034\n",
      "0.8196618659987477 0.6551724137931034\n",
      "tensor(0.1488, dtype=torch.float64)\n"
     ]
    }
   ],
   "source": [
    "from concept_erasure import LeaceEraser\n",
    "eraser = LeaceEraser.fit(torch.tensor(X_train), torch.tensor([0  if y == \"female_feminine\" else 1 for y in y_train]))\n",
    "X_test_debaised = eraser(torch.tensor(X_test))\n",
    "X_train_debaised = eraser(torch.tensor(X_train))\n",
    "assert(X_train_debaised != X_train)\n",
    "rf2 = RandomForestClassifier().fit(X_train_debaised, y_train)\n",
    "lr2 = LogisticRegression(max_iter=1000, tol=0.0).fit(X_train_debaised, y_train)\n",
    "\n",
    "rf_predict_train_debiased = rf2.predict(X_train_debaised)\n",
    "rf_predict_test_debiased = rf2.predict(X_test_debaised)\n",
    "\n",
    "lr_predict_train_debaised = lr2.predict(X_train_debaised)\n",
    "lr_predict_test_debaised = lr2.predict(X_test_debaised)\n",
    "print(accuracy_score(y_train, rf_predict_train_debiased), accuracy_score(y_test, rf_predict_test_debiased))\n",
    "print(accuracy_score(y_train, lr_predict_train_debaised), accuracy_score(y_test, lr_predict_test_debaised))\n",
    "beta = torch.from_numpy(lr.coef_)\n",
    "print(beta.norm(p=torch.inf))\n",
    "\n",
    "# but now use these against some sort of task and see if gendered accuracy changes -- try accent classification maybe?"
   ]
  }
 ],
 "metadata": {
  "kernelspec": {
   "display_name": "venv",
   "language": "python",
   "name": "python3"
  },
  "language_info": {
   "codemirror_mode": {
    "name": "ipython",
    "version": 3
   },
   "file_extension": ".py",
   "mimetype": "text/x-python",
   "name": "python",
   "nbconvert_exporter": "python",
   "pygments_lexer": "ipython3",
   "version": "3.10.16"
  }
 },
 "nbformat": 4,
 "nbformat_minor": 5
}
